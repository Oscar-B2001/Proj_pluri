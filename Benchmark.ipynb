{
  "cells": [
    {
      "cell_type": "code",
      "execution_count": null,
      "metadata": {
        "colab": {
          "base_uri": "https://localhost:8080/"
        },
        "id": "lPfufeVNtOiU",
        "outputId": "032534c1-7c8d-4b1c-8463-1976fa1ea87d"
      },
      "outputs": [
        {
          "name": "stdout",
          "output_type": "stream",
          "text": [
            "   N55528 lifestyle lifestyleroyals  \\\n",
            "0  N19639    health      weightloss   \n",
            "1  N61837      news       newsworld   \n",
            "2  N53526    health          voices   \n",
            "3  N38324    health         medical   \n",
            "4   N2073    sports    football_nfl   \n",
            "\n",
            "  The Brands Queen Elizabeth, Prince Charles, and Prince Philip Swear By  \\\n",
            "0                      50 Worst Habits For Belly Fat                       \n",
            "1  The Cost of Trump's Aid Freeze in the Trenches...                       \n",
            "2  I Was An NBA Wife. Here's How It Affected My M...                       \n",
            "3  How to Get Rid of Skin Tags, According to a De...                       \n",
            "4  Should NFL be able to fine players for critici...                       \n",
            "\n",
            "  Shop the notebooks, jackets, and more that the royals can't live without.  \\\n",
            "0  These seemingly harmless habits are holding yo...                          \n",
            "1  Lt. Ivan Molchanets peeked over a parapet of s...                          \n",
            "2  I felt like I was a fraud, and being an NBA wi...                          \n",
            "3  They seem harmless, but there's a very good re...                          \n",
            "4  Several fines came down against NFL players fo...                          \n",
            "\n",
            "   https://assets.msn.com/labs/mind/AAGH0ET.html  \\\n",
            "0  https://assets.msn.com/labs/mind/AAB19MK.html   \n",
            "1  https://assets.msn.com/labs/mind/AAJgNsz.html   \n",
            "2  https://assets.msn.com/labs/mind/AACk2N6.html   \n",
            "3  https://assets.msn.com/labs/mind/AAAKEkt.html   \n",
            "4  https://assets.msn.com/labs/mind/AAJ4lap.html   \n",
            "\n",
            "  [{\"Label\": \"Prince Philip, Duke of Edinburgh\", \"Type\": \"P\", \"WikidataId\": \"Q80976\", \"Confidence\": 1.0, \"OccurrenceOffsets\": [48], \"SurfaceForms\": [\"Prince Philip\"]}, {\"Label\": \"Charles, Prince of Wales\", \"Type\": \"P\", \"WikidataId\": \"Q43274\", \"Confidence\": 1.0, \"OccurrenceOffsets\": [28], \"SurfaceForms\": [\"Prince Charles\"]}, {\"Label\": \"Elizabeth II\", \"Type\": \"P\", \"WikidataId\": \"Q9682\", \"Confidence\": 0.97, \"OccurrenceOffsets\": [11], \"SurfaceForms\": [\"Queen Elizabeth\"]}]  \\\n",
            "0  [{\"Label\": \"Adipose tissue\", \"Type\": \"C\", \"Wik...                                                                                                                                                                                                                                                                                                                                                                                                                                       \n",
            "1                                                 []                                                                                                                                                                                                                                                                                                                                                                                                                                       \n",
            "2                                                 []                                                                                                                                                                                                                                                                                                                                                                                                                                       \n",
            "3  [{\"Label\": \"Skin tag\", \"Type\": \"C\", \"WikidataI...                                                                                                                                                                                                                                                                                                                                                                                                                                       \n",
            "4  [{\"Label\": \"National Football League\", \"Type\":...                                                                                                                                                                                                                                                                                                                                                                                                                                       \n",
            "\n",
            "                                                  []  \n",
            "0  [{\"Label\": \"Adipose tissue\", \"Type\": \"C\", \"Wik...  \n",
            "1  [{\"Label\": \"Ukraine\", \"Type\": \"G\", \"WikidataId...  \n",
            "2  [{\"Label\": \"National Basketball Association\", ...  \n",
            "3  [{\"Label\": \"Skin tag\", \"Type\": \"C\", \"WikidataI...  \n",
            "4  [{\"Label\": \"National Football League\", \"Type\":...  \n",
            "   1  U13740  11/11/2019 9:05:58 AM  \\\n",
            "0  2  U91836  11/12/2019 6:11:30 PM   \n",
            "1  3  U73700  11/14/2019 7:01:48 AM   \n",
            "2  4  U34670  11/11/2019 5:28:05 AM   \n",
            "3  5   U8125  11/12/2019 4:11:21 PM   \n",
            "4  6  U19739  11/11/2019 6:52:13 PM   \n",
            "\n",
            "  N55189 N42782 N34694 N45794 N18445 N63302 N10414 N19347 N31801  \\\n",
            "0  N31739 N6072 N63045 N23979 N35656 N43353 N8129...               \n",
            "1  N10732 N25792 N7563 N21087 N41087 N5445 N60384...               \n",
            "2  N45729 N2203 N871 N53880 N41375 N43142 N33013 ...               \n",
            "3                        N10078 N56514 N14904 N33740               \n",
            "4  N39074 N14343 N32607 N32320 N22007 N442 N19001...               \n",
            "\n",
            "                                   N55689-1 N35729-0  \n",
            "0  N20678-0 N39317-0 N58114-0 N20495-0 N42977-0 N...  \n",
            "1  N50014-0 N23877-0 N35389-0 N49712-0 N16844-0 N...  \n",
            "2                N35729-0 N33632-0 N49685-1 N27581-0  \n",
            "3  N39985-0 N36050-0 N16096-0 N8400-1 N22407-0 N6...  \n",
            "4        N21119-1 N53696-0 N33619-1 N25722-0 N2869-0  \n"
          ]
        }
      ],
      "source": [
        "import pandas as pd\n",
        "from sklearn.feature_extraction.text import TfidfVectorizer\n",
        "from sklearn.metrics.pairwise import cosine_similarity\n",
        "\n",
        "# Charger les articles de presse\n",
        "news_df = pd.read_csv('MINDsmall_train/news.tsv', sep='\\t')\n",
        "\n",
        "# Charger les comportements des utilisateurs\n",
        "behaviors_df = pd.read_csv('MINDsmall_train/behaviors.tsv', sep='\\t')\n",
        "\n",
        "# Explorer les premières lignes\n",
        "print(news_df.head())\n",
        "print(behaviors_df.head())\n"
      ]
    },
    {
      "cell_type": "code",
      "execution_count": 3,
      "metadata": {
        "colab": {
          "base_uri": "https://localhost:8080/"
        },
        "id": "9k9Tz-RumnDJ",
        "outputId": "1b6fd0d8-ffdf-41ee-b5cc-2982a6c52d50"
      },
      "outputs": [
        {
          "name": "stdout",
          "output_type": "stream",
          "text": [
            "Index(['N55528', 'lifestyle', 'lifestyleroyals',\n",
            "       'The Brands Queen Elizabeth, Prince Charles, and Prince Philip Swear By',\n",
            "       'Shop the notebooks, jackets, and more that the royals can't live without.',\n",
            "       'https://assets.msn.com/labs/mind/AAGH0ET.html',\n",
            "       '[{\"Label\": \"Prince Philip, Duke of Edinburgh\", \"Type\": \"P\", \"WikidataId\": \"Q80976\", \"Confidence\": 1.0, \"OccurrenceOffsets\": [48], \"SurfaceForms\": [\"Prince Philip\"]}, {\"Label\": \"Charles, Prince of Wales\", \"Type\": \"P\", \"WikidataId\": \"Q43274\", \"Confidence\": 1.0, \"OccurrenceOffsets\": [28], \"SurfaceForms\": [\"Prince Charles\"]}, {\"Label\": \"Elizabeth II\", \"Type\": \"P\", \"WikidataId\": \"Q9682\", \"Confidence\": 0.97, \"OccurrenceOffsets\": [11], \"SurfaceForms\": [\"Queen Elizabeth\"]}]',\n",
            "       '[]'],\n",
            "      dtype='object')\n"
          ]
        }
      ],
      "source": [
        "print(news_df.columns)"
      ]
    },
    {
      "cell_type": "code",
      "execution_count": 4,
      "metadata": {
        "colab": {
          "base_uri": "https://localhost:8080/"
        },
        "id": "3q0v3-pFqjPh",
        "outputId": "d71ccb6f-eb70-4388-b27a-7e8a4ca4cd7d"
      },
      "outputs": [
        {
          "name": "stdout",
          "output_type": "stream",
          "text": [
            "                                               title  \\\n",
            "0                      50 Worst Habits For Belly Fat   \n",
            "1  The Cost of Trump's Aid Freeze in the Trenches...   \n",
            "2  I Was An NBA Wife. Here's How It Affected My M...   \n",
            "3  How to Get Rid of Skin Tags, According to a De...   \n",
            "4  Should NFL be able to fine players for critici...   \n",
            "\n",
            "                                            abstract  \n",
            "0  These seemingly harmless habits are holding yo...  \n",
            "1  Lt. Ivan Molchanets peeked over a parapet of s...  \n",
            "2  I felt like I was a fraud, and being an NBA wi...  \n",
            "3  They seem harmless, but there's a very good re...  \n",
            "4  Several fines came down against NFL players fo...  \n"
          ]
        }
      ],
      "source": [
        "# Renommer les colonnes pour plus de clarté\n",
        "news_df.columns = ['article_id', 'category', 'subcategory', 'title', 'abstract', 'url', 'entities', 'extra_data']\n",
        "\n",
        "# Afficher un exemple pour vérifier\n",
        "print(news_df[['title', 'abstract']].head())\n"
      ]
    },
    {
      "cell_type": "code",
      "execution_count": 6,
      "metadata": {
        "id": "17PcII4_md8M"
      },
      "outputs": [],
      "source": [
        "# Nettoyage simple sur les titres des articles\n",
        "news_df['title'] = news_df['title'].str.lower().str.replace('[^\\w\\s]', '')\n",
        "\n",
        "# Gestion des données manquantes (par exemple, remplir avec une valeur par défaut)\n",
        "news_df.fillna('Unknown', inplace=True)\n"
      ]
    },
    {
      "cell_type": "code",
      "execution_count": null,
      "metadata": {
        "id": "CrHo2Nl1rcn9"
      },
      "outputs": [],
      "source": [
        "# Appliquer le TF-IDF sur les titres d'articles\n",
        "vectorizer = TfidfVectorizer(max_features=50)\n",
        "X = vectorizer.fit_transform(news_df['title'])\n",
        "\n",
        "# Calculer la similarité cosinus entre articles\n",
        "cosine_similarities = cosine_similarity(X)\n"
      ]
    },
    {
      "cell_type": "code",
      "execution_count": 8,
      "metadata": {},
      "outputs": [
        {
          "data": {
            "text/plain": [
              "array([[1.        , 0.        , 0.        , ..., 0.        , 0.        ,\n",
              "        0.51311051],\n",
              "       [0.        , 1.        , 0.        , ..., 0.27885586, 0.28558196,\n",
              "        0.        ],\n",
              "       [0.        , 0.        , 1.        , ..., 0.        , 0.62526126,\n",
              "        0.        ],\n",
              "       ...,\n",
              "       [0.        , 0.27885586, 0.        , ..., 1.        , 0.24293006,\n",
              "        0.        ],\n",
              "       [0.        , 0.28558196, 0.62526126, ..., 0.24293006, 1.        ,\n",
              "        0.        ],\n",
              "       [0.51311051, 0.        , 0.        , ..., 0.        , 0.        ,\n",
              "        1.        ]])"
            ]
          },
          "execution_count": 8,
          "metadata": {},
          "output_type": "execute_result"
        }
      ],
      "source": [
        "cosine_similarities"
      ]
    },
    {
      "cell_type": "code",
      "execution_count": null,
      "metadata": {},
      "outputs": [],
      "source": []
    }
  ],
  "metadata": {
    "colab": {
      "provenance": []
    },
    "kernelspec": {
      "display_name": "Python 3",
      "name": "python3"
    },
    "language_info": {
      "codemirror_mode": {
        "name": "ipython",
        "version": 3
      },
      "file_extension": ".py",
      "mimetype": "text/x-python",
      "name": "python",
      "nbconvert_exporter": "python",
      "pygments_lexer": "ipython3",
      "version": "3.11.9"
    }
  },
  "nbformat": 4,
  "nbformat_minor": 0
}
